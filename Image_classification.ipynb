{
  "nbformat": 4,
  "nbformat_minor": 0,
  "metadata": {
    "colab": {
      "name": "Image classification.ipynb",
      "provenance": [],
      "collapsed_sections": []
    },
    "kernelspec": {
      "name": "python3",
      "display_name": "Python 3"
    }
  },
  "cells": [
    {
      "cell_type": "code",
      "metadata": {
        "id": "YSMJ5rgHW6bI"
      },
      "source": [
        "import numpy as np\n",
        "import pandas as pd\n",
        "from PIL import Image, ImageFont, ImageDraw\n",
        "from PIL.ImageChops import add, subtract, multiply, difference, screen\n",
        "import PIL.ImageStat as stat\n",
        "from skimage.io import imread, imsave, imshow, show, imread_collection, imshow_collection\n",
        "from skimage import color, viewer, exposure, img_as_float, data\n",
        "from skimage.transform import SimilarityTransform, warp, swirl\n",
        "from skimage.util import invert, random_noise, montage\n",
        "import matplotlib.image as mpimg\n",
        "import matplotlib.pylab as plt\n",
        "from scipy.ndimage import affine_transform, zoom\n",
        "from scipy import misc\n",
        "from skimage.filters  import threshold_otsu\n",
        "from skimage.filters  import try_all_threshold\n",
        "from skimage.filters import sobel\n",
        "from skimage.filters import gaussian\n",
        "from skimage  import exposure\n",
        "from skimage.transform  import rotate, rescale\n",
        "from skimage import morphology\n",
        "from skimage.restoration import inpaint\n",
        "from skimage.util  import random_noise\n",
        "from skimage.restoration  import denoise_tv_chambolle\n",
        "from skimage.restoration import denoise_bilateral\n",
        "from skimage.segmentation import slic\n",
        "from skimage.color import label2rgb\n",
        "from skimage import measure\n",
        "from skimage.feature import canny\n",
        "from skimage.feature import corner_harris, corner_peaks\n",
        "from skimage.feature import Cascade\n",
        "from skimage.color import gray2rgb\n",
        "from numpy import mean\n",
        "from numpy import std\n",
        "from matplotlib import pyplot\n",
        "from sklearn.model_selection import KFold\n",
        "from keras.datasets import mnist\n",
        "from keras.utils import to_categorical\n",
        "from keras.models import Sequential\n",
        "from keras.layers import Conv2D\n",
        "from keras.layers import MaxPooling2D\n",
        "from keras.layers import Dense\n",
        "from keras.layers import Flatten\n",
        "from keras.optimizers import SGD, Adam, Adamax\n",
        "from PIL import Image\n",
        "from matplotlib import patches\n",
        "from os import listdir\n",
        "from matplotlib import image\n",
        "import regex as re\n",
        "from sklearn.model_selection import train_test_split"
      ],
      "execution_count": null,
      "outputs": []
    },
    {
      "cell_type": "code",
      "metadata": {
        "id": "NjQkExmhZYTg"
      },
      "source": [
        "pd.set_option('display.max_columns', 1000)\n",
        "pd.set_option('display.max_rows', 1000)"
      ],
      "execution_count": null,
      "outputs": []
    },
    {
      "cell_type": "code",
      "metadata": {
        "id": "8n30oDLgXE4B",
        "colab": {
          "base_uri": "https://localhost:8080/"
        },
        "outputId": "4df34fa5-c528-479c-8c09-5b694d2200be"
      },
      "source": [
        "pip install Pillow"
      ],
      "execution_count": null,
      "outputs": [
        {
          "output_type": "stream",
          "text": [
            "Requirement already satisfied: Pillow in /usr/local/lib/python3.6/dist-packages (7.0.0)\n"
          ],
          "name": "stdout"
        }
      ]
    },
    {
      "cell_type": "code",
      "metadata": {
        "id": "pYnk2mF-XtC4"
      },
      "source": [
        "def show_image(image, title='Image', cmap_type='gray'):    \n",
        "  plt.imshow(image, cmap=cmap_type)        \n",
        "  plt.title(title)    \n",
        "  plt.axis('off')    \n",
        "  plt.show()"
      ],
      "execution_count": null,
      "outputs": []
    },
    {
      "cell_type": "code",
      "metadata": {
        "id": "5Ki06RzKXt3A"
      },
      "source": [
        "def show_image_with_corners(image, coords, title=\"Corners detected\"): \n",
        "  plt.imshow(image, interpolation='nearest', cmap='gray') \n",
        "  plt.title(title)\n",
        "  plt.plot(coords[:, 1], coords[:, 0], '+r', markersize=15) \n",
        "  plt.axis('off')\n",
        "  plt.show()"
      ],
      "execution_count": null,
      "outputs": []
    },
    {
      "cell_type": "code",
      "metadata": {
        "id": "WPiDwgwmXx_J"
      },
      "source": [
        "def show_image_contour(image, contours):\n",
        "    plt.figure()\n",
        "    for n, contour in enumerate(contours):\n",
        "        plt.plot(contour[:, 1], contour[:, 0], linewidth=3)\n",
        "    plt.imshow(image, interpolation='nearest', cmap='gray_r')\n",
        "    plt.title('Contours')\n",
        "    plt.axis('off')\n",
        "    plt.show()"
      ],
      "execution_count": null,
      "outputs": []
    },
    {
      "cell_type": "code",
      "metadata": {
        "id": "Rf1tFcTpX0Y6"
      },
      "source": [
        "def show_detected_face(result, detected, title=\"Face image\"):\n",
        "    plt.figure()\n",
        "    plt.imshow(result)\n",
        "    img_desc = plt.gca()\n",
        "    plt.set_cmap('gray')\n",
        "    plt.title(title)\n",
        "    plt.axis('off')\n",
        "\n",
        "    for patch in detected:\n",
        "        \n",
        "        img_desc.add_patch(\n",
        "            patches.Rectangle(\n",
        "                (patch['c'], patch['r']),\n",
        "                patch['width'],\n",
        "                patch['height'],\n",
        "                fill=False,\n",
        "                color='r',\n",
        "                linewidth=2)\n",
        "        )\n",
        "    plt.show()"
      ],
      "execution_count": null,
      "outputs": []
    },
    {
      "cell_type": "code",
      "metadata": {
        "id": "FnDkfBMyXZgh",
        "colab": {
          "base_uri": "https://localhost:8080/",
          "height": 264
        },
        "outputId": "80b62bd1-e862-4b2c-c284-73b227a7af3f"
      },
      "source": [
        "image_an = mpimg.imread(\"/content/drive/My Drive/machine_learning/faces/an2i/an2i_left_angry_sunglasses_2.pgm\") \n",
        "show_image(image_an)"
      ],
      "execution_count": null,
      "outputs": [
        {
          "output_type": "display_data",
          "data": {
            "image/png": "[encoded data removed]",
            "text/plain": [
              "<Figure size 432x288 with 1 Axes>"
            ]
          },
          "metadata": {
            "tags": [],
            "needs_background": "light"
          }
        }
      ]
    },
    {
      "cell_type": "code",
      "metadata": {
        "id": "Gd7rL6xtXnIR",
        "colab": {
          "base_uri": "https://localhost:8080/",
          "height": 265
        },
        "outputId": "2a77d39f-87ef-422c-9e26-19361b879a26"
      },
      "source": [
        "plt.hist(image_an.ravel(), bins=256)\n",
        "plt.show()"
      ],
      "execution_count": null,
      "outputs": [
        {
          "output_type": "display_data",
          "data": {
            "image/png": "[encoded data removed]",
            "text/plain": [
              "<Figure size 432x288 with 1 Axes>"
            ]
          },
          "metadata": {
            "tags": [],
            "needs_background": "light"
          }
        }
      ]
    },
    {
      "cell_type": "code",
      "metadata": {
        "id": "4Tywx8v2XrTY",
        "colab": {
          "base_uri": "https://localhost:8080/",
          "height": 264
        },
        "outputId": "ebbf5c30-a672-48b8-eb58-f9f25df861a7"
      },
      "source": [
        "#binary image\n",
        "thresh = threshold_otsu(image_an)\n",
        "binary1 = image_an > thresh\n",
        "show_image(binary1, 'Binary image')"
      ],
      "execution_count": null,
      "outputs": [
        {
          "output_type": "display_data",
          "data": {
            "image/png": "[encoded data removed]",
            "text/plain": [
              "<Figure size 432x288 with 1 Axes>"
            ]
          },
          "metadata": {
            "tags": [],
            "needs_background": "light"
          }
        }
      ]
    },
    {
      "cell_type": "code",
      "metadata": {
        "id": "NhBUSiQQYqci",
        "colab": {
          "base_uri": "https://localhost:8080/",
          "height": 264
        },
        "outputId": "6b409cac-a794-4757-f6db-a10275d7eca7"
      },
      "source": [
        "edge_image = sobel(image_an)\n",
        "show_image(edge_image, \"Edges with Sobel\")"
      ],
      "execution_count": null,
      "outputs": [
        {
          "output_type": "display_data",
          "data": {
            "image/png": "[encoded data removed]",
            "text/plain": [
              "<Figure size 432x288 with 1 Axes>"
            ]
          },
          "metadata": {
            "tags": [],
            "needs_background": "light"
          }
        }
      ]
    },
    {
      "cell_type": "code",
      "metadata": {
        "id": "86hzLebAZ_Zs",
        "colab": {
          "base_uri": "https://localhost:8080/",
          "height": 264
        },
        "outputId": "85e4cd26-5004-4603-b6b4-be4d631ea583"
      },
      "source": [
        "adapthist_eq_image = exposure.equalize_adapthist(image_an, clip_limit=0.03)\n",
        "edge_image = sobel(adapthist_eq_image)\n",
        "thresh = threshold_otsu(edge_image)\n",
        "binary = edge_image > thresh\n",
        "show_image(binary, 'Binary image')"
      ],
      "execution_count": null,
      "outputs": [
        {
          "output_type": "display_data",
          "data": {
            "image/png": "[encoded data removed]",
            "text/plain": [
              "<Figure size 432x288 with 1 Axes>"
            ]
          },
          "metadata": {
            "tags": [],
            "needs_background": "light"
          }
        }
      ]
    },
    {
      "cell_type": "code",
      "metadata": {
        "id": "DHZOD-MJbMdN",
        "colab": {
          "base_uri": "https://localhost:8080/",
          "height": 264
        },
        "outputId": "097fc8f9-42d7-4fb0-939e-6596ee39467e"
      },
      "source": [
        "eroded_image_shape = morphology.binary_erosion(binary1) \n",
        "show_image(eroded_image_shape)"
      ],
      "execution_count": null,
      "outputs": [
        {
          "output_type": "display_data",
          "data": {
            "image/png": "[encoded data removed]",
            "text/plain": [
              "<Figure size 432x288 with 1 Axes>"
            ]
          },
          "metadata": {
            "tags": [],
            "needs_background": "light"
          }
        }
      ]
    },
    {
      "cell_type": "code",
      "metadata": {
        "id": "IBfIlTaTd2me",
        "colab": {
          "base_uri": "https://localhost:8080/",
          "height": 264
        },
        "outputId": "4e76dedb-b519-43e3-c59b-209ca3d10852"
      },
      "source": [
        "contours = measure.find_contours(eroded_image_shape, 0.8)\n",
        "show_image_contour(eroded_image_shape, contours)"
      ],
      "execution_count": null,
      "outputs": [
        {
          "output_type": "display_data",
          "data": {
            "image/png": "[encoded data removed]",
            "text/plain": [
              "<Figure size 432x288 with 1 Axes>"
            ]
          },
          "metadata": {
            "tags": [],
            "needs_background": "light"
          }
        }
      ]
    },
    {
      "cell_type": "code",
      "metadata": {
        "id": "w9qBBjeqeUi_",
        "colab": {
          "base_uri": "https://localhost:8080/",
          "height": 281
        },
        "outputId": "a50b4126-88de-4ead-b5f0-8e129cf61cce"
      },
      "source": [
        "shape_contours = [cnt.shape[0] for cnt in contours]\n",
        "max_dots_shape = 75\n",
        "dots_contours = [cnt for cnt in contours if np.shape(cnt)[0] > max_dots_shape]\n",
        "show_image_contour(eroded_image_shape, dots_contours)\n",
        "print(\"Dice's dots number: {}. \".format(len(dots_contours)))"
      ],
      "execution_count": null,
      "outputs": [
        {
          "output_type": "display_data",
          "data": {
            "image/png": "[encoded data removed]",
            "text/plain": [
              "<Figure size 432x288 with 1 Axes>"
            ]
          },
          "metadata": {
            "tags": [],
            "needs_background": "light"
          }
        },
        {
          "output_type": "stream",
          "text": [
            "Dice's dots number: 1. \n"
          ],
          "name": "stdout"
        }
      ]
    },
    {
      "cell_type": "code",
      "metadata": {
        "id": "Xeo0RcUeh2kC"
      },
      "source": [
        "from os import listdir"
      ],
      "execution_count": null,
      "outputs": []
    },
    {
      "cell_type": "code",
      "metadata": {
        "id": "afd0j3W5jC66"
      },
      "source": [
        "# load all images in a directory\n",
        "loaded_images = list()\n",
        "column_names = list()\n",
        "for filename in listdir('/content/drive/My Drive/machine_learning/all_images'):\n",
        "  img_data = image.imread('/content/drive/My Drive/machine_learning/all_images/' + filename)\n",
        "  column_names.append(filename)\n",
        "  loaded_images.append(img_data)"
      ],
      "execution_count": null,
      "outputs": []
    },
    {
      "cell_type": "code",
      "metadata": {
        "id": "ghwAHzUEjeCC"
      },
      "source": [
        "y_var = list()\n",
        "for i in column_names:\n",
        "  if re.match(\"an2i\", i) is not None:\n",
        "    y_var.append(1)\n",
        "  elif re.match(\"at33\", i) is not None:\n",
        "    y_var.append(2)\n",
        "  elif re.match(\"boland\", i) is not None:\n",
        "    y_var.append(3)\n",
        "  elif re.match(\"bpm\", i) is not None:\n",
        "    y_var.append(4)\n",
        "  elif re.match(\"ch4f\", i) is not None:\n",
        "    y_var.append(5)\n",
        "  elif re.match(\"cheyer\", i) is not None:\n",
        "    y_var.append(6)\n",
        "  elif re.match(\"choon\", i) is not None:\n",
        "    y_var.append(7)\n",
        "  elif re.match(\"danieln\", i) is not None:\n",
        "    y_var.append(8)\n",
        "  elif re.match(\"glickman\", i) is not None:\n",
        "    y_var.append(9)\n",
        "  elif re.match(\"karyadi\", i) is not None:\n",
        "    y_var.append(10)\n",
        "  elif re.match(\"kawamura\", i) is not None:\n",
        "    y_var.append(11)\n",
        "  elif re.match(\"kk49\", i) is not None:\n",
        "    y_var.append(12)\n",
        "  elif re.match(\"megak\", i) is not None:\n",
        "    y_var.append(13)\n",
        "  elif re.match(\"mitchell\", i) is not None:\n",
        "    y_var.append(14)\n",
        "  elif re.match(\"night\", i) is not None:\n",
        "    y_var.append(15)\n",
        "  elif re.match(\"phoebe\", i) is not None:\n",
        "    y_var.append(16)\n",
        "  elif re.match(\"saavik\", i) is not None:\n",
        "    y_var.append(17)\n",
        "  elif re.match(\"steffi\", i) is not None:\n",
        "    y_var.append(18)\n",
        "  elif re.match(\"sz24\", i) is not None:\n",
        "    y_var.append(19)\n",
        "  else:\n",
        "    y_var.append(20)"
      ],
      "execution_count": null,
      "outputs": []
    },
    {
      "cell_type": "code",
      "metadata": {
        "id": "1OWG4G-djmXy"
      },
      "source": [
        "X_all = np.array(loaded_images)\n",
        "df = pd.DataFrame(y_var)\n",
        "dummies  = pd.get_dummies(df.iloc[:,0])\n",
        "y_all_dummies = dummies.to_numpy()"
      ],
      "execution_count": null,
      "outputs": []
    },
    {
      "cell_type": "code",
      "metadata": {
        "id": "Tadb6DC2ktub"
      },
      "source": [
        "#splitting the data into train test validation\n",
        "#train and test\n",
        "X_train, X_test, trainY, testY = train_test_split(X_all, y_all_dummies, test_size=0.1, random_state=1)\n",
        "#train and validation \n",
        "X_train, X_val, trainY, valY = train_test_split(X_train, trainY, test_size=0.22, random_state=1)"
      ],
      "execution_count": null,
      "outputs": []
    },
    {
      "cell_type": "code",
      "metadata": {
        "id": "f2yhnxZqk-pr"
      },
      "source": [
        "#reshaping the datasets\n",
        "trainX = X_train.reshape((X_train.shape[0], 60, 64, 1))\n",
        "valX = X_val.reshape((X_val.shape[0], 60, 64, 1))\n",
        "testX = X_test.reshape((X_test.shape[0], 60, 64, 1))"
      ],
      "execution_count": null,
      "outputs": []
    },
    {
      "cell_type": "code",
      "metadata": {
        "id": "6S7fyTuGmFiF"
      },
      "source": [
        "#normalization \n",
        "train_norm = trainX.astype('float32')\n",
        "val_norm = valX.astype('float32')\n",
        "test_norm = testX.astype('float32')\n",
        "train_norm = train_norm / 255.0\n",
        "val_norm = val_norm / 255.0\n",
        "test_norm = test_norm / 255.0"
      ],
      "execution_count": null,
      "outputs": []
    },
    {
      "cell_type": "code",
      "metadata": {
        "id": "i_s3j7Txmlzd",
        "colab": {
          "base_uri": "https://localhost:8080/"
        },
        "outputId": "800c8aea-89de-445b-b6d4-db8d658bcc5a"
      },
      "source": [
        "#modeling \n",
        "model = Sequential()\n",
        "model.add(Conv2D(32, (2, 2), activation='relu', kernel_initializer='he_uniform', input_shape=(60, 64, 1)))\n",
        "model.add(MaxPooling2D((2, 2)))\n",
        "model.add(Flatten())\n",
        "model.add(Dense(100, activation='relu', kernel_initializer='he_uniform'))\n",
        "model.add(Dense(20, activation='softmax'))\n",
        "opt = SGD(lr=0.01, momentum=0.9)\n",
        "model.compile(optimizer=opt, loss='categorical_crossentropy', metrics=['accuracy'])\n",
        "model.summary()"
      ],
      "execution_count": null,
      "outputs": [
        {
          "output_type": "stream",
          "text": [
            "Model: \"sequential_98\"\n",
            "_________________________________________________________________\n",
            "Layer (type)                 Output Shape              Param #   \n",
            "=================================================================\n",
            "conv2d_99 (Conv2D)           (None, 59, 63, 32)        160       \n",
            "_________________________________________________________________\n",
            "max_pooling2d_99 (MaxPooling (None, 29, 31, 32)        0         \n",
            "_________________________________________________________________\n",
            "flatten_98 (Flatten)         (None, 28768)             0         \n",
            "_________________________________________________________________\n",
            "dense_196 (Dense)            (None, 100)               2876900   \n",
            "_________________________________________________________________\n",
            "dense_197 (Dense)            (None, 20)                2020      \n",
            "=================================================================\n",
            "Total params: 2,879,080\n",
            "Trainable params: 2,879,080\n",
            "Non-trainable params: 0\n",
            "_________________________________________________________________\n"
          ],
          "name": "stdout"
        }
      ]
    },
    {
      "cell_type": "code",
      "metadata": {
        "id": "-hsBQtRLm7Hl",
        "colab": {
          "base_uri": "https://localhost:8080/"
        },
        "outputId": "dbba115c-aecf-4f73-e9c1-37f797843fb9"
      },
      "source": [
        "#modeling \n",
        "model1 = Sequential()\n",
        "model1.add(Conv2D(32, (2, 2), activation='relu', kernel_initializer='he_uniform', input_shape=(60, 64, 1)))\n",
        "model1.add(MaxPooling2D((2, 2)))\n",
        "model1.add(Conv2D(64, (2, 2)))\n",
        "model1.add(MaxPooling2D((2, 2)))\n",
        "model1.add(Flatten())\n",
        "model1.add(Dense(100, activation='relu', kernel_initializer='he_uniform'))\n",
        "model1.add(Dense(20, activation='softmax'))\n",
        "opt = SGD(lr=0.01, momentum=0.9)\n",
        "model1.compile(optimizer=opt, loss='categorical_crossentropy', metrics=['accuracy'])\n",
        "model1.summary()"
      ],
      "execution_count": null,
      "outputs": [
        {
          "output_type": "stream",
          "text": [
            "Model: \"sequential_1\"\n",
            "_________________________________________________________________\n",
            "Layer (type)                 Output Shape              Param #   \n",
            "=================================================================\n",
            "conv2d_1 (Conv2D)            (None, 59, 63, 32)        160       \n",
            "_________________________________________________________________\n",
            "max_pooling2d_1 (MaxPooling2 (None, 29, 31, 32)        0         \n",
            "_________________________________________________________________\n",
            "conv2d_2 (Conv2D)            (None, 28, 30, 64)        8256      \n",
            "_________________________________________________________________\n",
            "max_pooling2d_2 (MaxPooling2 (None, 14, 15, 64)        0         \n",
            "_________________________________________________________________\n",
            "flatten_1 (Flatten)          (None, 13440)             0         \n",
            "_________________________________________________________________\n",
            "dense_2 (Dense)              (None, 100)               1344100   \n",
            "_________________________________________________________________\n",
            "dense_3 (Dense)              (None, 20)                2020      \n",
            "=================================================================\n",
            "Total params: 1,354,536\n",
            "Trainable params: 1,354,536\n",
            "Non-trainable params: 0\n",
            "_________________________________________________________________\n"
          ],
          "name": "stdout"
        }
      ]
    },
    {
      "cell_type": "code",
      "metadata": {
        "id": "cuS2hVUVBxAe",
        "colab": {
          "base_uri": "https://localhost:8080/"
        },
        "outputId": "5d68b82c-5363-41be-d87d-65dec38f39ae"
      },
      "source": [
        "#modeling \n",
        "model2 = Sequential()\n",
        "model2.add(Conv2D(64, (2, 2), activation='relu', kernel_initializer='he_uniform', input_shape=(60, 64, 1)))\n",
        "model2.add(MaxPooling2D((2, 2)))\n",
        "model2.add(Flatten())\n",
        "model2.add(Dense(100, activation='relu', kernel_initializer='he_uniform'))\n",
        "model2.add(Dense(20, activation='softmax'))\n",
        "opt = SGD(lr=0.01, momentum=0.9)\n",
        "model2.compile(optimizer=opt, loss='categorical_crossentropy', metrics=['accuracy'])\n",
        "model2.summary()"
      ],
      "execution_count": null,
      "outputs": [
        {
          "output_type": "stream",
          "text": [
            "Model: \"sequential_2\"\n",
            "_________________________________________________________________\n",
            "Layer (type)                 Output Shape              Param #   \n",
            "=================================================================\n",
            "conv2d_3 (Conv2D)            (None, 59, 63, 64)        320       \n",
            "_________________________________________________________________\n",
            "max_pooling2d_3 (MaxPooling2 (None, 29, 31, 64)        0         \n",
            "_________________________________________________________________\n",
            "flatten_2 (Flatten)          (None, 57536)             0         \n",
            "_________________________________________________________________\n",
            "dense_4 (Dense)              (None, 100)               5753700   \n",
            "_________________________________________________________________\n",
            "dense_5 (Dense)              (None, 20)                2020      \n",
            "=================================================================\n",
            "Total params: 5,756,040\n",
            "Trainable params: 5,756,040\n",
            "Non-trainable params: 0\n",
            "_________________________________________________________________\n"
          ],
          "name": "stdout"
        }
      ]
    },
    {
      "cell_type": "code",
      "metadata": {
        "id": "YF7FJEpknU1m"
      },
      "source": [
        "history = model.fit(trainX, trainY, epochs=10, batch_size=10, validation_data=(valX, valY), verbose=0)"
      ],
      "execution_count": null,
      "outputs": []
    },
    {
      "cell_type": "code",
      "metadata": {
        "id": "Ugh5nPkfpXmX"
      },
      "source": [
        "history.history"
      ],
      "execution_count": null,
      "outputs": []
    },
    {
      "cell_type": "code",
      "metadata": {
        "id": "XodmT96moyXn",
        "colab": {
          "base_uri": "https://localhost:8080/"
        },
        "outputId": "257eecf1-b75e-4d25-bd35-a5617cb4e680"
      },
      "source": [
        "val_loss, val_acc = model.evaluate(valX,valY,verbose=0)\n",
        "print(val_loss, val_acc)"
      ],
      "execution_count": null,
      "outputs": [
        {
          "output_type": "stream",
          "text": [
            "0.08124328404664993 0.9919354915618896\n"
          ],
          "name": "stdout"
        }
      ]
    },
    {
      "cell_type": "code",
      "metadata": {
        "id": "CHmXxC-7Bjx_"
      },
      "source": [
        "histor1 = model1.fit(trainX, trainY, epochs=10, batch_size=10, validation_data=(valX, valY), verbose=0)"
      ],
      "execution_count": null,
      "outputs": []
    },
    {
      "cell_type": "code",
      "metadata": {
        "id": "7tL-nC8LBnUe"
      },
      "source": [
        "histor1.history"
      ],
      "execution_count": null,
      "outputs": []
    },
    {
      "cell_type": "code",
      "metadata": {
        "id": "P7OCIRS9B6FO"
      },
      "source": [
        "histor2 = model1.fit(trainX, trainY, epochs=10, batch_size=10, validation_data=(valX, valY), verbose=0)"
      ],
      "execution_count": null,
      "outputs": []
    },
    {
      "cell_type": "code",
      "metadata": {
        "id": "vjXhJZhqBrOj"
      },
      "source": [
        "histor2.history"
      ],
      "execution_count": null,
      "outputs": []
    },
    {
      "cell_type": "code",
      "metadata": {
        "id": "vTqEdZ9yriTX",
        "colab": {
          "base_uri": "https://localhost:8080/"
        },
        "outputId": "c65def78-9a8f-4364-8276-a9b7984579ca"
      },
      "source": [
        "score_lr = []\n",
        "bt = [10,20,30,40,50,60,70,80,90,100]\n",
        "lr = [0.00001,0.0001,0.001,0.01,0.1,1]\n",
        "for j in lr:\n",
        "  score_batch = [] \n",
        "  for i in bt:\n",
        "    model = Sequential()\n",
        "    model.add(Conv2D(32, (2, 2), activation='relu', kernel_initializer='he_uniform', input_shape=(60, 64, 1)))\n",
        "    model.add(MaxPooling2D((2, 2)))\n",
        "    model.add(Flatten())\n",
        "    model.add(Dense(100, activation='relu', kernel_initializer='he_uniform'))\n",
        "    model.add(Dense(20, activation='softmax'))\n",
        "    opt = SGD(lr=j, momentum=0.9)\n",
        "    model.compile(optimizer=opt, loss='categorical_crossentropy', metrics=['accuracy'])\n",
        "    model.fit(trainX, trainY, epochs=10, batch_size=i, validation_data=(valX, valY), verbose=0)\n",
        "    score = model.evaluate(valX, valY)\n",
        "    score_batch.append(score)\n",
        "  score_lr.append(score_batch)"
      ],
      "execution_count": null,
      "outputs": [
        {
          "output_type": "stream",
          "text": [
            "4/4 [==============================] - 0s 20ms/step - loss: 2.7806 - accuracy: 0.0645\n",
            "4/4 [==============================] - 0s 18ms/step - loss: 2.4058 - accuracy: 0.2097\n",
            "4/4 [==============================] - 0s 18ms/step - loss: 2.6191 - accuracy: 0.1048\n",
            "4/4 [==============================] - 0s 20ms/step - loss: 2.5781 - accuracy: 0.1129\n",
            "4/4 [==============================] - 0s 19ms/step - loss: 2.7993 - accuracy: 0.0806\n",
            "4/4 [==============================] - 0s 19ms/step - loss: 1.1851 - accuracy: 0.5806\n",
            "4/4 [==============================] - 0s 18ms/step - loss: 2.2298 - accuracy: 0.3226\n",
            "4/4 [==============================] - 0s 19ms/step - loss: 2.9486 - accuracy: 0.0726\n",
            "4/4 [==============================] - 0s 17ms/step - loss: 1.2260 - accuracy: 0.6290\n",
            "4/4 [==============================] - 0s 19ms/step - loss: 2.5825 - accuracy: 0.2581\n",
            "4/4 [==============================] - 0s 20ms/step - loss: 0.0662 - accuracy: 0.9839\n",
            "4/4 [==============================] - 0s 21ms/step - loss: 0.9239 - accuracy: 0.7177\n",
            "4/4 [==============================] - 0s 19ms/step - loss: 0.0924 - accuracy: 0.9758\n",
            "4/4 [==============================] - 0s 17ms/step - loss: 2.9986 - accuracy: 0.0081\n",
            "4/4 [==============================] - 0s 21ms/step - loss: 0.1896 - accuracy: 0.9516\n",
            "4/4 [==============================] - 0s 19ms/step - loss: 0.1458 - accuracy: 0.9758\n",
            "4/4 [==============================] - 0s 20ms/step - loss: 2.9093 - accuracy: 0.0887\n",
            "4/4 [==============================] - 0s 20ms/step - loss: 2.3268 - accuracy: 0.2339\n",
            "4/4 [==============================] - 0s 19ms/step - loss: 2.8001 - accuracy: 0.0968\n",
            "4/4 [==============================] - 0s 19ms/step - loss: 1.7585 - accuracy: 0.3871\n",
            "4/4 [==============================] - 0s 21ms/step - loss: 0.0159 - accuracy: 0.9919\n",
            "4/4 [==============================] - 0s 18ms/step - loss: 0.0049 - accuracy: 1.0000\n",
            "4/4 [==============================] - 0s 19ms/step - loss: 0.0028 - accuracy: 1.0000\n",
            "4/4 [==============================] - 0s 21ms/step - loss: 0.0155 - accuracy: 0.9919\n",
            "4/4 [==============================] - 0s 19ms/step - loss: 0.0079 - accuracy: 1.0000\n",
            "4/4 [==============================] - 0s 21ms/step - loss: 0.0422 - accuracy: 0.9919\n",
            "4/4 [==============================] - 0s 20ms/step - loss: 0.0062 - accuracy: 1.0000\n",
            "4/4 [==============================] - 0s 17ms/step - loss: 0.0061 - accuracy: 1.0000\n",
            "4/4 [==============================] - 0s 19ms/step - loss: 0.0397 - accuracy: 1.0000\n",
            "4/4 [==============================] - 0s 19ms/step - loss: 0.0494 - accuracy: 0.9839\n",
            "4/4 [==============================] - 0s 19ms/step - loss: 3.0133 - accuracy: 0.0081\n",
            "4/4 [==============================] - 0s 17ms/step - loss: 0.0646 - accuracy: 0.9919\n",
            "4/4 [==============================] - 0s 19ms/step - loss: 3.0069 - accuracy: 0.0081\n",
            "4/4 [==============================] - 0s 21ms/step - loss: 3.0027 - accuracy: 0.0081\n",
            "4/4 [==============================] - 0s 20ms/step - loss: 3.0070 - accuracy: 0.0081\n",
            "4/4 [==============================] - 0s 17ms/step - loss: 3.0028 - accuracy: 0.0081\n",
            "4/4 [==============================] - 0s 19ms/step - loss: 3.0073 - accuracy: 0.0323\n",
            "4/4 [==============================] - 0s 21ms/step - loss: 2.4300 - accuracy: 0.3065\n",
            "4/4 [==============================] - 0s 19ms/step - loss: 1.7995 - accuracy: 0.5968\n",
            "4/4 [==============================] - 0s 20ms/step - loss: 2.3469 - accuracy: 0.1774\n",
            "4/4 [==============================] - 0s 20ms/step - loss: 3.0195 - accuracy: 0.0081\n",
            "4/4 [==============================] - 0s 17ms/step - loss: 3.0167 - accuracy: 0.0323\n",
            "4/4 [==============================] - 0s 18ms/step - loss: 3.0102 - accuracy: 0.0081\n",
            "4/4 [==============================] - 0s 18ms/step - loss: 3.0203 - accuracy: 0.0081\n",
            "4/4 [==============================] - 0s 19ms/step - loss: 3.0205 - accuracy: 0.0081\n",
            "4/4 [==============================] - 0s 19ms/step - loss: 3.0176 - accuracy: 0.0081\n",
            "4/4 [==============================] - 0s 19ms/step - loss: 3.0135 - accuracy: 0.0081\n",
            "4/4 [==============================] - 0s 19ms/step - loss: 0.0695 - accuracy: 0.9677\n",
            "4/4 [==============================] - 0s 20ms/step - loss: 3.0200 - accuracy: 0.0081\n",
            "4/4 [==============================] - 0s 20ms/step - loss: 3.0243 - accuracy: 0.0081\n",
            "4/4 [==============================] - 0s 18ms/step - loss: 3.2446 - accuracy: 0.0565\n",
            "4/4 [==============================] - 0s 19ms/step - loss: 3.1620 - accuracy: 0.0323\n",
            "4/4 [==============================] - 0s 19ms/step - loss: 3.0559 - accuracy: 0.0081\n",
            "4/4 [==============================] - 0s 19ms/step - loss: 3.0122 - accuracy: 0.0565\n",
            "4/4 [==============================] - 0s 19ms/step - loss: 3.0122 - accuracy: 0.0565\n",
            "4/4 [==============================] - 0s 21ms/step - loss: 3.0174 - accuracy: 0.0565\n",
            "4/4 [==============================] - 0s 19ms/step - loss: 3.0394 - accuracy: 0.0565\n",
            "4/4 [==============================] - 0s 18ms/step - loss: 3.0286 - accuracy: 0.0565\n",
            "4/4 [==============================] - 0s 18ms/step - loss: 3.0425 - accuracy: 0.0081\n",
            "4/4 [==============================] - 0s 19ms/step - loss: 3.0340 - accuracy: 0.0403\n"
          ],
          "name": "stdout"
        }
      ]
    },
    {
      "cell_type": "code",
      "metadata": {
        "id": "aIy3B3Do0bNf"
      },
      "source": [
        "score_lr_000001 = score_lr[0]\n",
        "score_lr_00001  = score_lr[1]\n",
        "score_lr_0001   = score_lr[2]\n",
        "score_lr_001    = score_lr[3]\n",
        "score_lr_01     = score_lr[4]\n",
        "score_lr_1      = score_lr[5]"
      ],
      "execution_count": null,
      "outputs": []
    },
    {
      "cell_type": "code",
      "metadata": {
        "id": "3xKRQ7V11Wkv",
        "colab": {
          "base_uri": "https://localhost:8080/",
          "height": 279
        },
        "outputId": "b2fed989-94eb-42d6-b250-419679d46c52"
      },
      "source": [
        "test_accuracy_bt = []\n",
        "test_loss_bt = []\n",
        "for i in score_lr_000001:\n",
        "  test_accuracy_bt.append(i[1])\n",
        "  test_loss_bt.append(i[0])\n",
        "plt.plot(bt,test_accuracy_bt)\n",
        "plt.ylabel(\"accuracy\")\n",
        "plt.xlabel(\"batch size\")\n",
        "plt.show()"
      ],
      "execution_count": null,
      "outputs": [
        {
          "output_type": "display_data",
          "data": {
            "image/png": "[encoded data removed]",
            "text/plain": [
              "<Figure size 432x288 with 1 Axes>"
            ]
          },
          "metadata": {
            "tags": [],
            "needs_background": "light"
          }
        }
      ]
    },
    {
      "cell_type": "code",
      "metadata": {
        "id": "l3yiLOSI8M51",
        "colab": {
          "base_uri": "https://localhost:8080/",
          "height": 279
        },
        "outputId": "657dbc90-1902-4dd9-c65d-5e95967f90cb"
      },
      "source": [
        "test_accuracy_bt = []\n",
        "test_loss_bt = []\n",
        "for i in score_lr_00001:\n",
        "  test_accuracy_bt.append(i[1])\n",
        "  test_loss_bt.append(i[0])\n",
        "plt.plot(bt,test_accuracy_bt)\n",
        "plt.ylabel(\"accuracy\")\n",
        "plt.xlabel(\"batch size\")\n",
        "plt.show()"
      ],
      "execution_count": null,
      "outputs": [
        {
          "output_type": "display_data",
          "data": {
            "image/png": "[encoded data removed]",
            "text/plain": [
              "<Figure size 432x288 with 1 Axes>"
            ]
          },
          "metadata": {
            "tags": [],
            "needs_background": "light"
          }
        }
      ]
    },
    {
      "cell_type": "code",
      "metadata": {
        "id": "kMbTw_-i81p6",
        "colab": {
          "base_uri": "https://localhost:8080/",
          "height": 279
        },
        "outputId": "191cc708-9b40-4472-9dca-59442b8e0c79"
      },
      "source": [
        "test_accuracy_bt = []\n",
        "test_loss_bt = []\n",
        "for i in score_lr_0001:\n",
        "  test_accuracy_bt.append(i[1])\n",
        "  test_loss_bt.append(i[0])\n",
        "plt.plot(bt,test_accuracy_bt)\n",
        "plt.ylabel(\"accuracy\")\n",
        "plt.xlabel(\"batch size\")\n",
        "plt.show()"
      ],
      "execution_count": null,
      "outputs": [
        {
          "output_type": "display_data",
          "data": {
            "image/png": "[encoded data removed]",
            "text/plain": [
              "<Figure size 432x288 with 1 Axes>"
            ]
          },
          "metadata": {
            "tags": [],
            "needs_background": "light"
          }
        }
      ]
    },
    {
      "cell_type": "code",
      "metadata": {
        "id": "AJ-aHyZi89Qb",
        "colab": {
          "base_uri": "https://localhost:8080/",
          "height": 279
        },
        "outputId": "e40e2c7e-da6b-4254-f802-42c6e2e8e180"
      },
      "source": [
        "test_accuracy_bt = []\n",
        "test_loss_bt = []\n",
        "for i in score_lr_001:\n",
        "  test_accuracy_bt.append(i[1])\n",
        "  test_loss_bt.append(i[0])\n",
        "plt.plot(bt,test_accuracy_bt)\n",
        "plt.ylabel(\"accuracy\")\n",
        "plt.xlabel(\"batch size\")\n",
        "plt.show()"
      ],
      "execution_count": null,
      "outputs": [
        {
          "output_type": "display_data",
          "data": {
            "image/png": "[encoded data removed]",
            "text/plain": [
              "<Figure size 432x288 with 1 Axes>"
            ]
          },
          "metadata": {
            "tags": [],
            "needs_background": "light"
          }
        }
      ]
    },
    {
      "cell_type": "code",
      "metadata": {
        "id": "dZCWrD1n8_e8",
        "colab": {
          "base_uri": "https://localhost:8080/",
          "height": 280
        },
        "outputId": "92bb0ed8-e607-44c2-e6d6-f300e93f6661"
      },
      "source": [
        "test_accuracy_bt = []\n",
        "test_loss_bt = []\n",
        "for i in score_lr_01:\n",
        "  test_accuracy_bt.append(i[1])\n",
        "  test_loss_bt.append(i[0])\n",
        "plt.plot(bt,test_accuracy_bt)\n",
        "plt.ylabel(\"accuracy\")\n",
        "plt.xlabel(\"batch size\")\n",
        "plt.show()"
      ],
      "execution_count": null,
      "outputs": [
        {
          "output_type": "display_data",
          "data": {
            "image/png": "[encoded data removed]",
            "text/plain": [
              "<Figure size 432x288 with 1 Axes>"
            ]
          },
          "metadata": {
            "tags": [],
            "needs_background": "light"
          }
        }
      ]
    },
    {
      "cell_type": "code",
      "metadata": {
        "id": "1-eQDTkX9Bpb",
        "colab": {
          "base_uri": "https://localhost:8080/",
          "height": 279
        },
        "outputId": "dfe4cbda-4d72-4093-f9c9-287d2684fead"
      },
      "source": [
        "test_accuracy_bt = []\n",
        "test_loss_bt = []\n",
        "for i in score_lr_1:\n",
        "  test_accuracy_bt.append(i[1])\n",
        "  test_loss_bt.append(i[0])\n",
        "plt.plot(bt,test_accuracy_bt)\n",
        "plt.ylabel(\"accuracy\")\n",
        "plt.xlabel(\"batch size\")\n",
        "plt.show()"
      ],
      "execution_count": null,
      "outputs": [
        {
          "output_type": "display_data",
          "data": {
            "image/png": "[encoded data removed]",
            "text/plain": [
              "<Figure size 432x288 with 1 Axes>"
            ]
          },
          "metadata": {
            "tags": [],
            "needs_background": "light"
          }
        }
      ]
    },
    {
      "cell_type": "code",
      "metadata": {
        "id": "WxIgDnFyFDgs",
        "colab": {
          "base_uri": "https://localhost:8080/"
        },
        "outputId": "dedb68e4-4e3d-4225-9396-5725a032fff0"
      },
      "source": [
        "#modeling \n",
        "model = Sequential()\n",
        "model.add(Conv2D(32, (2, 2), activation='relu', kernel_initializer='he_uniform', input_shape=(60, 64, 1)))\n",
        "model.add(MaxPooling2D((2, 2)))\n",
        "model.add(Flatten())\n",
        "model.add(Dense(100, activation='relu', kernel_initializer='he_uniform'))\n",
        "model.add(Dense(20, activation='softmax'))\n",
        "opt = SGD(lr=0.001, momentum=0.9)\n",
        "model.compile(optimizer=opt, loss='categorical_crossentropy', metrics=['accuracy'])\n",
        "model.summary()"
      ],
      "execution_count": null,
      "outputs": [
        {
          "output_type": "stream",
          "text": [
            "Model: \"sequential_68\"\n",
            "_________________________________________________________________\n",
            "Layer (type)                 Output Shape              Param #   \n",
            "=================================================================\n",
            "conv2d_69 (Conv2D)           (None, 59, 63, 32)        160       \n",
            "_________________________________________________________________\n",
            "max_pooling2d_69 (MaxPooling (None, 29, 31, 32)        0         \n",
            "_________________________________________________________________\n",
            "flatten_68 (Flatten)         (None, 28768)             0         \n",
            "_________________________________________________________________\n",
            "dense_136 (Dense)            (None, 100)               2876900   \n",
            "_________________________________________________________________\n",
            "dense_137 (Dense)            (None, 20)                2020      \n",
            "=================================================================\n",
            "Total params: 2,879,080\n",
            "Trainable params: 2,879,080\n",
            "Non-trainable params: 0\n",
            "_________________________________________________________________\n"
          ],
          "name": "stdout"
        }
      ]
    },
    {
      "cell_type": "code",
      "metadata": {
        "id": "jr1GPfFFFwji"
      },
      "source": [
        "history = model.fit(trainX, trainY, epochs=10, batch_size=50, validation_data=(valX, valY), verbose=0)"
      ],
      "execution_count": null,
      "outputs": []
    },
    {
      "cell_type": "code",
      "metadata": {
        "id": "wR55oQgbFyeS"
      },
      "source": [
        "history.history"
      ],
      "execution_count": null,
      "outputs": []
    },
    {
      "cell_type": "code",
      "metadata": {
        "id": "3sifC4jjFzra",
        "colab": {
          "base_uri": "https://localhost:8080/"
        },
        "outputId": "02fc2836-256c-49c8-e555-75aff660df4b"
      },
      "source": [
        "val_loss, val_acc = model.evaluate(valX,valY,verbose=0)\n",
        "print(val_loss, val_acc)"
      ],
      "execution_count": null,
      "outputs": [
        {
          "output_type": "stream",
          "text": [
            "0.022740980610251427 1.0\n"
          ],
          "name": "stdout"
        }
      ]
    },
    {
      "cell_type": "code",
      "metadata": {
        "id": "cmep4F98pID2"
      },
      "source": [
        "history = model.fit(train_norm, trainY, epochs=10, batch_size=50, validation_data=(val_norm, valY), verbose=0)"
      ],
      "execution_count": null,
      "outputs": []
    },
    {
      "cell_type": "code",
      "metadata": {
        "id": "Vtxnb_0_FbQU"
      },
      "source": [
        "history.history"
      ],
      "execution_count": null,
      "outputs": []
    },
    {
      "cell_type": "code",
      "metadata": {
        "id": "PqTSfgcfp4F2",
        "colab": {
          "base_uri": "https://localhost:8080/"
        },
        "outputId": "60265050-a10a-4329-d1fd-f741d390681b"
      },
      "source": [
        "val_loss, val_acc = model.evaluate(val_norm,valY,verbose=0)\n",
        "print(val_loss, val_acc)"
      ],
      "execution_count": null,
      "outputs": [
        {
          "output_type": "stream",
          "text": [
            "2.71553635597229 0.5483871102333069\n"
          ],
          "name": "stdout"
        }
      ]
    },
    {
      "cell_type": "code",
      "metadata": {
        "id": "5oVZGTbLGcrB",
        "colab": {
          "base_uri": "https://localhost:8080/"
        },
        "outputId": "02487861-e0b7-4ce5-85b6-b8cbde295da3"
      },
      "source": [
        "#modeling \n",
        "model = Sequential()\n",
        "model.add(Conv2D(32, (2, 2), activation='tanh', kernel_initializer='he_uniform', input_shape=(60, 64, 1)))\n",
        "model.add(MaxPooling2D((2, 2)))\n",
        "model.add(Flatten())\n",
        "model.add(Dense(100, activation='tanh', kernel_initializer='he_uniform'))\n",
        "model.add(Dense(20, activation='softmax'))\n",
        "opt = SGD(lr=0.001, momentum=0.9)\n",
        "model.compile(optimizer=opt, loss='categorical_crossentropy', metrics=['accuracy'])\n",
        "model.summary()"
      ],
      "execution_count": null,
      "outputs": [
        {
          "output_type": "stream",
          "text": [
            "Model: \"sequential_70\"\n",
            "_________________________________________________________________\n",
            "Layer (type)                 Output Shape              Param #   \n",
            "=================================================================\n",
            "conv2d_71 (Conv2D)           (None, 59, 63, 32)        160       \n",
            "_________________________________________________________________\n",
            "max_pooling2d_71 (MaxPooling (None, 29, 31, 32)        0         \n",
            "_________________________________________________________________\n",
            "flatten_70 (Flatten)         (None, 28768)             0         \n",
            "_________________________________________________________________\n",
            "dense_140 (Dense)            (None, 100)               2876900   \n",
            "_________________________________________________________________\n",
            "dense_141 (Dense)            (None, 20)                2020      \n",
            "=================================================================\n",
            "Total params: 2,879,080\n",
            "Trainable params: 2,879,080\n",
            "Non-trainable params: 0\n",
            "_________________________________________________________________\n"
          ],
          "name": "stdout"
        }
      ]
    },
    {
      "cell_type": "code",
      "metadata": {
        "id": "mQzIAIKRGgM7"
      },
      "source": [
        "history = model.fit(trainX, trainY, epochs=10, batch_size=50, validation_data=(valX, valY), verbose=0)"
      ],
      "execution_count": null,
      "outputs": []
    },
    {
      "cell_type": "code",
      "metadata": {
        "id": "NrSooku6Ghx7",
        "colab": {
          "base_uri": "https://localhost:8080/"
        },
        "outputId": "630c1fc5-2788-4738-9a8d-c1b763d5b960"
      },
      "source": [
        "val_loss, val_acc = model.evaluate(valX,valY,verbose=0)\n",
        "print(val_loss, val_acc)"
      ],
      "execution_count": null,
      "outputs": [
        {
          "output_type": "stream",
          "text": [
            "0.09224537014961243 0.9919354915618896\n"
          ],
          "name": "stdout"
        }
      ]
    },
    {
      "cell_type": "code",
      "metadata": {
        "id": "pdVQ5InBGlJb",
        "colab": {
          "base_uri": "https://localhost:8080/"
        },
        "outputId": "9fcae7b8-0023-496d-faf8-dfc460b8a5a9"
      },
      "source": [
        "activation_fn = []\n",
        "activation = ['relu','tanh','sigmoid']\n",
        "for i in activation:\n",
        "  model = Sequential()\n",
        "  model.add(Conv2D(32, (2, 2), activation=i, kernel_initializer='he_uniform', input_shape=(60, 64, 1)))\n",
        "  model.add(MaxPooling2D((2, 2)))\n",
        "  model.add(Flatten())\n",
        "  model.add(Dense(100, activation = i, kernel_initializer='he_uniform'))\n",
        "  model.add(Dense(20, activation='softmax'))\n",
        "  opt = SGD(lr=0.001, momentum=0.9)\n",
        "  model.compile(optimizer=opt, loss='categorical_crossentropy', metrics=['accuracy'])\n",
        "  model.fit(trainX, trainY, epochs=10, batch_size=50, validation_data=(valX, valY), verbose=0)\n",
        "  score = model.evaluate(valX, valY)\n",
        "  activation_fn.append(score)"
      ],
      "execution_count": null,
      "outputs": [
        {
          "output_type": "stream",
          "text": [
            "4/4 [==============================] - 0s 18ms/step - loss: 0.0303 - accuracy: 0.9839\n",
            "4/4 [==============================] - 0s 21ms/step - loss: 0.0505 - accuracy: 1.0000\n",
            "4/4 [==============================] - 0s 19ms/step - loss: 1.5225 - accuracy: 0.8952\n"
          ],
          "name": "stdout"
        }
      ]
    },
    {
      "cell_type": "code",
      "metadata": {
        "id": "pzKmyhe_IUat"
      },
      "source": [
        "activation_fn"
      ],
      "execution_count": null,
      "outputs": []
    },
    {
      "cell_type": "code",
      "metadata": {
        "id": "73odBKA9HuHJ",
        "colab": {
          "base_uri": "https://localhost:8080/",
          "height": 279
        },
        "outputId": "8b90fd9d-19d8-4ea2-d540-cae8a3cc7a26"
      },
      "source": [
        "test_accuracy_af = []\n",
        "test_loss_af = []\n",
        "for i in activation_fn:\n",
        "  test_accuracy_af.append(i[1])\n",
        "  test_loss_af.append(i[0])\n",
        "plt.plot(activation,test_accuracy_af)\n",
        "plt.ylabel(\"accuracy\")\n",
        "plt.xlabel(\"batch size\")\n",
        "plt.show()"
      ],
      "execution_count": null,
      "outputs": [
        {
          "output_type": "display_data",
          "data": {
            "image/png": "[encoded data removed]",
            "text/plain": [
              "<Figure size 432x288 with 1 Axes>"
            ]
          },
          "metadata": {
            "tags": [],
            "needs_background": "light"
          }
        }
      ]
    },
    {
      "cell_type": "code",
      "metadata": {
        "id": "aKDypGqWI3_-",
        "colab": {
          "base_uri": "https://localhost:8080/"
        },
        "outputId": "0d48bfa3-5029-416b-92b2-b2ad6a2dbbbe"
      },
      "source": [
        "activation_fn = []\n",
        "activation = ['relu','tanh','sigmoid']\n",
        "for i in activation:\n",
        "  model = Sequential()\n",
        "  model.add(Conv2D(32, (2, 2), activation=i, kernel_initializer='he_uniform', input_shape=(60, 64, 1)))\n",
        "  model.add(MaxPooling2D((2, 2)))\n",
        "  model.add(Flatten())\n",
        "  model.add(Dense(100, activation = i, kernel_initializer='he_uniform'))\n",
        "  model.add(Dense(20, activation='softmax'))\n",
        "  opt = SGD(lr=0.001, momentum=0.9)\n",
        "  model.compile(optimizer=opt, loss='categorical_crossentropy', metrics=['accuracy'])\n",
        "  model.fit(trainX, trainY, epochs=10, batch_size=50, validation_data=(valX, valY), verbose=0)\n",
        "  score = model.evaluate(valX, valY)\n",
        "  activation_fn.append(score)"
      ],
      "execution_count": null,
      "outputs": [
        {
          "output_type": "stream",
          "text": [
            "4/4 [==============================] - 0s 18ms/step - loss: 0.0119 - accuracy: 0.9919\n",
            "4/4 [==============================] - 0s 19ms/step - loss: 0.0601 - accuracy: 1.0000\n",
            "4/4 [==============================] - 0s 19ms/step - loss: 1.5365 - accuracy: 0.9032\n"
          ],
          "name": "stdout"
        }
      ]
    },
    {
      "cell_type": "code",
      "metadata": {
        "id": "23QGV5ZJI5Wt",
        "colab": {
          "base_uri": "https://localhost:8080/",
          "height": 279
        },
        "outputId": "67c59fae-daac-47a1-d028-e8e48c1865d1"
      },
      "source": [
        "test_accuracy_af = []\n",
        "test_loss_af = []\n",
        "for i in activation_fn:\n",
        "  test_accuracy_af.append(i[1])\n",
        "  test_loss_af.append(i[0])\n",
        "plt.plot(activation,test_accuracy_af)\n",
        "plt.ylabel(\"accuracy\")\n",
        "plt.xlabel(\"batch size\")\n",
        "plt.show()"
      ],
      "execution_count": null,
      "outputs": [
        {
          "output_type": "display_data",
          "data": {
            "image/png": "[encoded data removed]",
            "text/plain": [
              "<Figure size 432x288 with 1 Axes>"
            ]
          },
          "metadata": {
            "tags": [],
            "needs_background": "light"
          }
        }
      ]
    },
    {
      "cell_type": "code",
      "metadata": {
        "id": "giINyfzVJA5l",
        "colab": {
          "base_uri": "https://localhost:8080/"
        },
        "outputId": "053ab613-5792-4dd8-99f0-b1be4ec36d36"
      },
      "source": [
        "activation_fn = []\n",
        "activation = ['relu','tanh','sigmoid']\n",
        "for i in activation:\n",
        "  model = Sequential()\n",
        "  model.add(Conv2D(32, (2, 2), activation=i, kernel_initializer='he_uniform', input_shape=(60, 64, 1)))\n",
        "  model.add(MaxPooling2D((2, 2)))\n",
        "  model.add(Flatten())\n",
        "  model.add(Dense(100, activation = i, kernel_initializer='he_uniform'))\n",
        "  model.add(Dense(20, activation='softmax'))\n",
        "  opt = SGD(lr=0.001, momentum=0.9)\n",
        "  model.compile(optimizer=opt, loss='categorical_crossentropy', metrics=['accuracy'])\n",
        "  model.fit(trainX, trainY, epochs=10, batch_size=50, validation_data=(valX, valY), verbose=0)\n",
        "  score = model.evaluate(valX, valY)\n",
        "  activation_fn.append(score)"
      ],
      "execution_count": null,
      "outputs": [
        {
          "output_type": "stream",
          "text": [
            "4/4 [==============================] - 0s 17ms/step - loss: 0.0466 - accuracy: 0.9839\n",
            "4/4 [==============================] - 0s 19ms/step - loss: 0.0928 - accuracy: 1.0000\n",
            "4/4 [==============================] - 0s 20ms/step - loss: 1.5359 - accuracy: 0.9194\n"
          ],
          "name": "stdout"
        }
      ]
    },
    {
      "cell_type": "code",
      "metadata": {
        "id": "6NVyT9FaJC84",
        "colab": {
          "base_uri": "https://localhost:8080/",
          "height": 279
        },
        "outputId": "1ff78c6c-67be-4de4-ea81-cba3ccd38006"
      },
      "source": [
        "test_accuracy_af = []\n",
        "test_loss_af = []\n",
        "for i in activation_fn:\n",
        "  test_accuracy_af.append(i[1])\n",
        "  test_loss_af.append(i[0])\n",
        "plt.plot(activation,test_accuracy_af)\n",
        "plt.ylabel(\"accuracy\")\n",
        "plt.xlabel(\"batch size\")\n",
        "plt.show()"
      ],
      "execution_count": null,
      "outputs": [
        {
          "output_type": "display_data",
          "data": {
            "image/png": "[encoded data removed]",
            "text/plain": [
              "<Figure size 432x288 with 1 Axes>"
            ]
          },
          "metadata": {
            "tags": [],
            "needs_background": "light"
          }
        }
      ]
    },
    {
      "cell_type": "code",
      "metadata": {
        "id": "KrLzcqa7JPM3",
        "colab": {
          "base_uri": "https://localhost:8080/"
        },
        "outputId": "9fd57f36-ea99-41b2-df3e-afe470dd0bb7"
      },
      "source": [
        "model = Sequential()\n",
        "model.add(Conv2D(32, (2, 2), activation='tanh', kernel_initializer='he_uniform', input_shape=(60, 64, 1)))\n",
        "model.add(MaxPooling2D((2, 2)))\n",
        "model.add(Flatten())\n",
        "model.add(Dense(100, activation = 'tanh', kernel_initializer='he_uniform'))\n",
        "model.add(Dense(20, activation='softmax'))\n",
        "opt = SGD(lr=0.001, momentum=0.9)\n",
        "model.compile(optimizer=opt, loss='categorical_crossentropy', metrics=['accuracy'])\n",
        "model.fit(trainX, trainY, epochs=10, batch_size=50, validation_data=(valX, valY), verbose=0)\n",
        "score = model.evaluate(valX, valY)"
      ],
      "execution_count": null,
      "outputs": [
        {
          "output_type": "stream",
          "text": [
            "4/4 [==============================] - 0s 19ms/step - loss: 0.1891 - accuracy: 1.0000\n"
          ],
          "name": "stdout"
        }
      ]
    },
    {
      "cell_type": "code",
      "metadata": {
        "id": "LXEfKW8uJmih",
        "colab": {
          "base_uri": "https://localhost:8080/"
        },
        "outputId": "d2cb5536-a980-4cd0-ecef-b012d3dff9f2"
      },
      "source": [
        "model = Sequential()\n",
        "model.add(Conv2D(32, (2, 2), activation='tanh', kernel_initializer='he_uniform', input_shape=(60, 64, 1)))\n",
        "model.add(MaxPooling2D((2, 2)))\n",
        "model.add(Flatten())\n",
        "model.add(Dense(100, activation = 'tanh', kernel_initializer='he_uniform'))\n",
        "model.add(Dense(20, activation='softmax'))\n",
        "opt = Adam(lr=0.001)\n",
        "model.compile(optimizer=opt, loss='categorical_crossentropy', metrics=['accuracy'])\n",
        "model.fit(trainX, trainY, epochs=10, batch_size=50, validation_data=(valX, valY), verbose=0)\n",
        "score = model.evaluate(valX, valY)"
      ],
      "execution_count": null,
      "outputs": [
        {
          "output_type": "stream",
          "text": [
            "4/4 [==============================] - 0s 18ms/step - loss: 3.0220 - accuracy: 0.0081\n"
          ],
          "name": "stdout"
        }
      ]
    },
    {
      "cell_type": "code",
      "metadata": {
        "id": "rZDp6G90KAmZ",
        "colab": {
          "base_uri": "https://localhost:8080/"
        },
        "outputId": "6517e2c6-7329-4385-f21e-170c7d501a8d"
      },
      "source": [
        "model = Sequential()\n",
        "model.add(Conv2D(32, (2, 2), activation='tanh', kernel_initializer='he_uniform', input_shape=(60, 64, 1)))\n",
        "model.add(MaxPooling2D((2, 2)))\n",
        "model.add(Flatten())\n",
        "model.add(Dense(100, activation = 'tanh', kernel_initializer='he_uniform'))\n",
        "model.add(Dense(20, activation='softmax'))\n",
        "opt = Adamax(lr=0.001)\n",
        "model.compile(optimizer=opt, loss='categorical_crossentropy', metrics=['accuracy'])\n",
        "model.fit(trainX, trainY, epochs=10, batch_size=50, validation_data=(valX, valY), verbose=0)\n",
        "score = model.evaluate(valX, valY)"
      ],
      "execution_count": null,
      "outputs": [
        {
          "output_type": "stream",
          "text": [
            "4/4 [==============================] - 0s 19ms/step - loss: 2.9463 - accuracy: 0.0565\n"
          ],
          "name": "stdout"
        }
      ]
    },
    {
      "cell_type": "code",
      "metadata": {
        "id": "Jtvl91ftKX3c",
        "colab": {
          "base_uri": "https://localhost:8080/"
        },
        "outputId": "f949cbb3-857d-438b-b93e-faa18ce3a74f"
      },
      "source": [
        "model = Sequential()\n",
        "model.add(Conv2D(32, (2, 2), activation='tanh', kernel_initializer='he_uniform', input_shape=(60, 64, 1)))\n",
        "model.add(MaxPooling2D((2, 2)))\n",
        "model.add(Flatten())\n",
        "model.add(Dense(100, activation = 'tanh', kernel_initializer='he_uniform'))\n",
        "model.add(Dense(20, activation='softmax'))\n",
        "opt = SGD(lr=0.001, momentum=0.9)\n",
        "model.compile(optimizer=opt, loss='categorical_crossentropy', metrics=['accuracy'])\n",
        "model.fit(trainX, trainY, epochs=10, batch_size=50, validation_data=(valX, valY), verbose=0)\n",
        "score = model.evaluate(valX, valY)"
      ],
      "execution_count": null,
      "outputs": [
        {
          "output_type": "stream",
          "text": [
            "4/4 [==============================] - 0s 19ms/step - loss: 0.0925 - accuracy: 1.0000\n"
          ],
          "name": "stdout"
        }
      ]
    },
    {
      "cell_type": "code",
      "metadata": {
        "id": "YpPdecNKLP3A",
        "colab": {
          "base_uri": "https://localhost:8080/"
        },
        "outputId": "7c19e60a-a98a-4038-b6db-78a6098fa1ba"
      },
      "source": [
        "model = Sequential()\n",
        "model.add(Conv2D(32, (2, 2), activation='tanh', kernel_initializer='random_normal', input_shape=(60, 64, 1)))\n",
        "model.add(MaxPooling2D((2, 2)))\n",
        "model.add(Flatten())\n",
        "model.add(Dense(100, activation = 'tanh', kernel_initializer='random_normal'))\n",
        "model.add(Dense(20, activation='softmax'))\n",
        "opt = SGD(lr=0.001, momentum=0.9)\n",
        "model.compile(optimizer=opt, loss='categorical_crossentropy', metrics=['accuracy'])\n",
        "model.fit(trainX, trainY, epochs=10, batch_size=50, validation_data=(valX, valY), verbose=0)\n",
        "score = model.evaluate(valX, valY)"
      ],
      "execution_count": null,
      "outputs": [
        {
          "output_type": "stream",
          "text": [
            "4/4 [==============================] - 0s 19ms/step - loss: 1.2207 - accuracy: 0.8548\n"
          ],
          "name": "stdout"
        }
      ]
    },
    {
      "cell_type": "code",
      "metadata": {
        "id": "iEaw6XuILTf6",
        "colab": {
          "base_uri": "https://localhost:8080/"
        },
        "outputId": "24d4f828-4f4d-4c9b-f32c-dbc2ee616318"
      },
      "source": [
        "model = Sequential()\n",
        "model.add(Conv2D(32, (2, 2), activation='tanh', kernel_initializer='random_uniform', input_shape=(60, 64, 1)))\n",
        "model.add(MaxPooling2D((2, 2)))\n",
        "model.add(Flatten())\n",
        "model.add(Dense(100, activation = 'tanh', kernel_initializer='random_uniform'))\n",
        "model.add(Dense(20, activation='softmax'))\n",
        "opt = SGD(lr=0.001, momentum=0.9)\n",
        "model.compile(optimizer=opt, loss='categorical_crossentropy', metrics=['accuracy'])\n",
        "model.fit(trainX, trainY, epochs=10, batch_size=50, validation_data=(valX, valY), verbose=0)\n",
        "score = model.evaluate(valX, valY)"
      ],
      "execution_count": null,
      "outputs": [
        {
          "output_type": "stream",
          "text": [
            "4/4 [==============================] - 0s 20ms/step - loss: 0.4167 - accuracy: 0.9919\n"
          ],
          "name": "stdout"
        }
      ]
    },
    {
      "cell_type": "code",
      "metadata": {
        "id": "5RAtsif1LwqB",
        "colab": {
          "base_uri": "https://localhost:8080/"
        },
        "outputId": "02dbdad8-df5f-41e7-dce3-692ea6978dca"
      },
      "source": [
        "model = Sequential()\n",
        "model.add(Conv2D(32, (2, 2), activation='tanh', kernel_initializer='glorot_uniform', input_shape=(60, 64, 1)))\n",
        "model.add(MaxPooling2D((2, 2)))\n",
        "model.add(Flatten())\n",
        "model.add(Dense(100, activation = 'tanh', kernel_initializer='glorot_uniform'))\n",
        "model.add(Dense(20, activation='softmax'))\n",
        "opt = SGD(lr=0.001, momentum=0.9)\n",
        "model.compile(optimizer=opt, loss='categorical_crossentropy', metrics=['accuracy'])\n",
        "model.fit(trainX, trainY, epochs=10, batch_size=50, validation_data=(valX, valY), verbose=0)\n",
        "score = model.evaluate(valX, valY)"
      ],
      "execution_count": null,
      "outputs": [
        {
          "output_type": "stream",
          "text": [
            "4/4 [==============================] - 0s 19ms/step - loss: 0.0997 - accuracy: 0.9919\n"
          ],
          "name": "stdout"
        }
      ]
    },
    {
      "cell_type": "code",
      "metadata": {
        "id": "yYYe6kI9L7sp",
        "colab": {
          "base_uri": "https://localhost:8080/"
        },
        "outputId": "23a22e7d-b74e-4a46-abfd-0ac20af9ec3b"
      },
      "source": [
        "model = Sequential()\n",
        "model.add(Conv2D(32, (2, 2), activation='tanh', kernel_initializer='he_uniform', input_shape=(60, 64, 1)))\n",
        "model.add(MaxPooling2D((2, 2)))\n",
        "model.add(Flatten())\n",
        "model.add(Dense(100, activation = 'tanh', kernel_initializer='he_uniform'))\n",
        "model.add(Dense(20, activation='softmax'))\n",
        "opt = SGD(lr=0.001, momentum=0.9)\n",
        "model.compile(optimizer=opt, loss='categorical_crossentropy', metrics=['accuracy'])\n",
        "history = model.fit(trainX, trainY, epochs=10, batch_size=50, validation_data=(valX, valY), verbose=0)\n",
        "score = model.evaluate(valX, valY)"
      ],
      "execution_count": null,
      "outputs": [
        {
          "output_type": "stream",
          "text": [
            "4/4 [==============================] - 0s 20ms/step - loss: 0.0778 - accuracy: 1.0000\n"
          ],
          "name": "stdout"
        }
      ]
    },
    {
      "cell_type": "code",
      "metadata": {
        "id": "qFxoUo2rMNKZ"
      },
      "source": [
        "# load all images in a directory\n",
        "loaded_images = list()\n",
        "column_names = list()\n",
        "for filename in listdir('/content/drive/My Drive/machine_learning/all_images'):\n",
        "  img_data = image.imread('/content/drive/My Drive/machine_learning/all_images/' + filename)\n",
        "  edge_image = sobel(img_data)\n",
        "  column_names.append(filename)\n",
        "  loaded_images.append(edge_image)"
      ],
      "execution_count": null,
      "outputs": []
    },
    {
      "cell_type": "code",
      "metadata": {
        "id": "IsS4zcvVM_H6"
      },
      "source": [
        "edge_image = []\n",
        "for i in loaded_images:\n",
        "  ei = sobel(i)\n",
        "  edge_image.append(ei)"
      ],
      "execution_count": null,
      "outputs": []
    },
    {
      "cell_type": "code",
      "metadata": {
        "id": "ZYmUy2-zNxaj",
        "colab": {
          "base_uri": "https://localhost:8080/",
          "height": 264
        },
        "outputId": "be7f3747-e6c7-4afc-d0fb-84ccd04cc39a"
      },
      "source": [
        "show_image(loaded_images[500])"
      ],
      "execution_count": null,
      "outputs": [
        {
          "output_type": "display_data",
          "data": {
            "image/png": "[encoded data removed]",
            "text/plain": [
              "<Figure size 432x288 with 1 Axes>"
            ]
          },
          "metadata": {
            "tags": [],
            "needs_background": "light"
          }
        }
      ]
    },
    {
      "cell_type": "code",
      "metadata": {
        "id": "JTfjPmjnNJs8",
        "colab": {
          "base_uri": "https://localhost:8080/",
          "height": 264
        },
        "outputId": "96f464d3-f8b4-453a-ebc9-1f11e085a998"
      },
      "source": [
        "show_image(edge_image[500])"
      ],
      "execution_count": null,
      "outputs": [
        {
          "output_type": "display_data",
          "data": {
            "image/png": "[encoded data removed]",
            "text/plain": [
              "<Figure size 432x288 with 1 Axes>"
            ]
          },
          "metadata": {
            "tags": [],
            "needs_background": "light"
          }
        }
      ]
    },
    {
      "cell_type": "code",
      "metadata": {
        "id": "yLIuKGwtOOwL"
      },
      "source": [
        "X_edge_all = np.array(edge_image)"
      ],
      "execution_count": null,
      "outputs": []
    },
    {
      "cell_type": "code",
      "metadata": {
        "id": "VUEoTK7uOdps"
      },
      "source": [
        " X_edge_train, X_edge_test, y_edge_train, y_edge_test = train_test_split(X_edge_all, y_all_dummies, test_size=0.1, random_state=1)"
      ],
      "execution_count": null,
      "outputs": []
    },
    {
      "cell_type": "code",
      "metadata": {
        "id": "m637JigpOn-0"
      },
      "source": [
        "X_edge_train, X_edge_val, y_edge_train, y_edge_val = train_test_split(X_edge_train, y_edge_train, test_size=0.22, random_state=1)"
      ],
      "execution_count": null,
      "outputs": []
    },
    {
      "cell_type": "code",
      "metadata": {
        "id": "g402BMz2O5cs"
      },
      "source": [
        "edge_trainX = X_edge_train.reshape((X_edge_train.shape[0], 60, 64, 1))\n",
        "edge_valX = X_edge_val.reshape((X_edge_val.shape[0], 60, 64, 1))\n",
        "edge_testX = X_edge_test.reshape((X_edge_test.shape[0], 60, 64, 1))"
      ],
      "execution_count": null,
      "outputs": []
    },
    {
      "cell_type": "code",
      "metadata": {
        "id": "PyiQ9pzGOLD9",
        "colab": {
          "base_uri": "https://localhost:8080/"
        },
        "outputId": "c43634cb-b4c8-4087-cec8-b5ccefaf2014"
      },
      "source": [
        "model = Sequential()\n",
        "model.add(Conv2D(32, (2, 2), activation='tanh', kernel_initializer='he_uniform', input_shape=(60, 64, 1)))\n",
        "model.add(MaxPooling2D((2, 2)))\n",
        "model.add(Flatten())\n",
        "model.add(Dense(100, activation = 'tanh', kernel_initializer='he_uniform'))\n",
        "model.add(Dense(20, activation='softmax'))\n",
        "opt = SGD(lr=0.001, momentum=0.9)\n",
        "model.compile(optimizer=opt, loss='categorical_crossentropy', metrics=['accuracy'])\n",
        "model.fit(edge_trainX, y_edge_train, epochs=10, batch_size=50, validation_data=(valX, valY), verbose=0)\n",
        "score = model.evaluate(edge_valX, y_edge_val)"
      ],
      "execution_count": null,
      "outputs": [
        {
          "output_type": "stream",
          "text": [
            "4/4 [==============================] - 0s 21ms/step - loss: 1.1221 - accuracy: 0.9597\n"
          ],
          "name": "stdout"
        }
      ]
    },
    {
      "cell_type": "code",
      "metadata": {
        "id": "QxMm5-IZPe-B",
        "colab": {
          "base_uri": "https://localhost:8080/"
        },
        "outputId": "0b269deb-874a-4e3c-b54d-304ea29a8e5d"
      },
      "source": [
        "model = Sequential()\n",
        "model.add(Conv2D(32, (2, 2), activation='tanh', kernel_initializer='he_uniform', input_shape=(60, 64, 1)))\n",
        "model.add(MaxPooling2D((2, 2)))\n",
        "model.add(Flatten())\n",
        "model.add(Dense(100, activation = 'tanh', kernel_initializer='he_uniform'))\n",
        "model.add(Dense(20, activation='softmax'))\n",
        "opt = SGD(lr=0.001, momentum=0.9)\n",
        "model.compile(optimizer=opt, loss='categorical_crossentropy', metrics=['accuracy'])\n",
        "history = model.fit(trainX, trainY, epochs=10, batch_size=50, validation_data=(valX, valY), verbose=0)\n",
        "score = model.evaluate(valX, valY)"
      ],
      "execution_count": null,
      "outputs": [
        {
          "output_type": "stream",
          "text": [
            "4/4 [==============================] - 0s 21ms/step - loss: 0.0987 - accuracy: 1.0000\n"
          ],
          "name": "stdout"
        }
      ]
    },
    {
      "cell_type": "code",
      "metadata": {
        "id": "tUUSCazlcj9s",
        "colab": {
          "base_uri": "https://localhost:8080/"
        },
        "outputId": "ab75f415-1823-4946-8ac5-70d59ed2979d"
      },
      "source": [
        "model.summary()"
      ],
      "execution_count": null,
      "outputs": [
        {
          "output_type": "stream",
          "text": [
            "Model: \"sequential_104\"\n",
            "_________________________________________________________________\n",
            "Layer (type)                 Output Shape              Param #   \n",
            "=================================================================\n",
            "conv2d_105 (Conv2D)          (None, 59, 63, 32)        160       \n",
            "_________________________________________________________________\n",
            "max_pooling2d_105 (MaxPoolin (None, 29, 31, 32)        0         \n",
            "_________________________________________________________________\n",
            "flatten_104 (Flatten)        (None, 28768)             0         \n",
            "_________________________________________________________________\n",
            "dense_208 (Dense)            (None, 100)               2876900   \n",
            "_________________________________________________________________\n",
            "dense_209 (Dense)            (None, 20)                2020      \n",
            "=================================================================\n",
            "Total params: 2,879,080\n",
            "Trainable params: 2,879,080\n",
            "Non-trainable params: 0\n",
            "_________________________________________________________________\n"
          ],
          "name": "stdout"
        }
      ]
    },
    {
      "cell_type": "code",
      "metadata": {
        "id": "XJG7VyM9WlvM",
        "colab": {
          "base_uri": "https://localhost:8080/"
        },
        "outputId": "be01c1d2-14ce-44b8-a5e1-e635a15224da"
      },
      "source": [
        "history.history"
      ],
      "execution_count": null,
      "outputs": [
        {
          "output_type": "execute_result",
          "data": {
            "text/plain": [
              "{'accuracy': [0.19679634273052216,\n",
              "  0.7734553813934326,\n",
              "  0.9519450664520264,\n",
              "  0.986270010471344,\n",
              "  0.9931350350379944,\n",
              "  1.0,\n",
              "  0.9977116584777832,\n",
              "  1.0,\n",
              "  1.0,\n",
              "  1.0],\n",
              " 'loss': [2.760497570037842,\n",
              "  1.3892713785171509,\n",
              "  0.6194563508033752,\n",
              "  0.3592097759246826,\n",
              "  0.22389230132102966,\n",
              "  0.15968623757362366,\n",
              "  0.1299825757741928,\n",
              "  0.10617048293352127,\n",
              "  0.09156887233257294,\n",
              "  0.08228561282157898],\n",
              " 'val_accuracy': [0.5725806355476379,\n",
              "  0.9112903475761414,\n",
              "  0.9516128897666931,\n",
              "  0.9838709831237793,\n",
              "  0.9919354915618896,\n",
              "  0.9919354915618896,\n",
              "  1.0,\n",
              "  1.0,\n",
              "  1.0,\n",
              "  1.0],\n",
              " 'val_loss': [1.9274053573608398,\n",
              "  0.8863134980201721,\n",
              "  0.49376222491264343,\n",
              "  0.32460203766822815,\n",
              "  0.210630863904953,\n",
              "  0.16923876106739044,\n",
              "  0.14367152750492096,\n",
              "  0.12225449830293655,\n",
              "  0.10666432231664658,\n",
              "  0.09871204197406769]}"
            ]
          },
          "metadata": {
            "tags": []
          },
          "execution_count": 158
        }
      ]
    },
    {
      "cell_type": "code",
      "metadata": {
        "id": "Z_UbClVPWqD2",
        "colab": {
          "base_uri": "https://localhost:8080/"
        },
        "outputId": "5b63ac0a-05d5-4e51-ede7-47a4425d1fd6"
      },
      "source": [
        "score = model.evaluate(testX, testY)"
      ],
      "execution_count": null,
      "outputs": [
        {
          "output_type": "stream",
          "text": [
            "2/2 [==============================] - 0s 13ms/step - loss: 0.0964 - accuracy: 1.0000\n"
          ],
          "name": "stdout"
        }
      ]
    },
    {
      "cell_type": "code",
      "metadata": {
        "id": "6nOHTX-rW3t-"
      },
      "source": [
        "test_classes = model.predict_classes(testX)"
      ],
      "execution_count": null,
      "outputs": []
    },
    {
      "cell_type": "code",
      "metadata": {
        "id": "uNeiuP0BXNTc"
      },
      "source": [
        "testY_label = ['0','1','2','3','4','5','6','7','8','9','10','11','12','13','14','15','16','17','18','19']"
      ],
      "execution_count": null,
      "outputs": []
    },
    {
      "cell_type": "code",
      "metadata": {
        "id": "YdUQsMmJXwM0"
      },
      "source": [
        "test_df = pd.DataFrame(testY,columns=testY_label)"
      ],
      "execution_count": null,
      "outputs": []
    },
    {
      "cell_type": "code",
      "metadata": {
        "id": "Tj4vI5yxYY2N",
        "colab": {
          "base_uri": "https://localhost:8080/"
        },
        "outputId": "5304429c-b7e3-42e3-adb0-5f00df1e50db"
      },
      "source": [
        "testY_actual = test_df.idxmax(axis=1)\n",
        "testY_actual = np.array(testY_actual)\n",
        "testY_actual"
      ],
      "execution_count": null,
      "outputs": [
        {
          "output_type": "execute_result",
          "data": {
            "text/plain": [
              "array(['16', '10', '7', '7', '5', '6', '1', '2', '7', '18', '12', '18',\n",
              "       '4', '17', '5', '5', '0', '1', '1', '17', '19', '14', '3', '13',\n",
              "       '17', '2', '4', '18', '16', '6', '13', '10', '3', '12', '15', '7',\n",
              "       '9', '5', '14', '13', '15', '4', '11', '1', '19', '7', '8', '10',\n",
              "       '7', '2', '6', '4', '4', '17', '15', '0', '18', '16', '18', '14',\n",
              "       '3', '11', '4'], dtype=object)"
            ]
          },
          "metadata": {
            "tags": []
          },
          "execution_count": 184
        }
      ]
    },
    {
      "cell_type": "code",
      "metadata": {
        "id": "mQ2oXLUsXJCz",
        "colab": {
          "base_uri": "https://localhost:8080/"
        },
        "outputId": "e5bf51c1-18eb-445d-9f6f-f148b31a3035"
      },
      "source": [
        "test_classes"
      ],
      "execution_count": null,
      "outputs": [
        {
          "output_type": "execute_result",
          "data": {
            "text/plain": [
              "array([16, 10,  7,  7,  5,  6,  1,  2,  7, 18, 12, 18,  4, 17,  5,  5,  0,\n",
              "        1,  1, 17, 19, 14,  3, 13, 17,  2,  4, 18, 16,  6, 13, 10,  3, 12,\n",
              "       15,  7,  9,  5, 14, 13, 15,  4, 11,  1, 19,  7,  8, 10,  7,  2,  6,\n",
              "        4,  4, 17, 15,  0, 18, 16, 18, 14,  3, 11,  4])"
            ]
          },
          "metadata": {
            "tags": []
          },
          "execution_count": 185
        }
      ]
    }
  ]
}